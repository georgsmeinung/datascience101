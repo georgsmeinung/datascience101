{
 "metadata": {
  "language_info": {
   "codemirror_mode": {
    "name": "ipython",
    "version": 3
   },
   "file_extension": ".py",
   "mimetype": "text/x-python",
   "name": "python",
   "nbconvert_exporter": "python",
   "pygments_lexer": "ipython3",
   "version": "3.8.5-final"
  },
  "orig_nbformat": 2,
  "kernelspec": {
   "name": "python3",
   "display_name": "Python 3"
  }
 },
 "nbformat": 4,
 "nbformat_minor": 2,
 "cells": [
  {
   "source": [
    "# [Example: What is the Average Populaton of the Argentina Provinces?](https://jakevdp.github.io/PythonDataScienceHandbook/02.04-computation-on-arrays-aggregates.html#Example:-What-is-the-Average-Height-of-US-Presidents?)\n",
    "\n",
    "Aggregates available in NumPy can be extremely useful for summarizing a set of values. As a simple example, let's consider the heights of all US presidents. This data is available in the file provincias-ar.csv, which is a simple comma-separated list of labels and values:"
   ],
   "cell_type": "markdown",
   "metadata": {}
  },
  {
   "cell_type": "code",
   "execution_count": 19,
   "metadata": {},
   "outputs": [
    {
     "output_type": "stream",
     "name": "stdout",
     "text": [
      "categoria|centroide_lat|centroide_lon|fuente|id|iso_id|iso_nombre|nombre|nombre_completo|poblacion|poblacion_urbana|poblacion_rural\nProvincia|-36.6769415180527|-60.5588319815719|IGN|6|AR-B|Buenos Aires|Buenos Aires|Provincia de Buenos Aires|15625084|15190440|434644\nProvincia|-27.3358332810217|-66.9476824299928|IGN|10|AR-K|Catamarca|Catamarca|Provincia de Catamarca|367828|283706|84122\nProvincia|-26.3864309061226|-60.7658307438603|IGN|22|AR-H|Chaco|Chaco|Provincia del Chaco|1055259|892688|162571\nProvincia|-43.7886233529878|-68.5267593943345|IGN|26|AR-U|Chubut|Chubut|Provincia del Chubut|509108|464268|4484\n"
     ]
    }
   ],
   "source": [
    "!head -5 data/provincias-ar.csv"
   ]
  },
  {
   "source": [
    "We'll use the Pandas package to read the file and extract this information"
   ],
   "cell_type": "markdown",
   "metadata": {}
  },
  {
   "cell_type": "code",
   "execution_count": 20,
   "metadata": {},
   "outputs": [
    {
     "output_type": "stream",
     "name": "stdout",
     "text": [
      "[15625084   367828  1055259   509108  2890151  3308876   992595  1235994\n   530162   673307   318951   333642  1738929  1101593   551266   638645\n  1214441   681055    43231   273964  3194537   874006   127205  1448188]\n"
     ]
    }
   ],
   "source": [
    "import numpy as np \n",
    "import pandas as pd \n",
    "data = pd.read_csv('data/provincias-ar.csv', sep=\"|\")\n",
    "populations = np.array(data['poblacion'])\n",
    "print(populations)"
   ]
  },
  {
   "source": [
    "Now that we have this data array, we can compute a variety of summary statistics:"
   ],
   "cell_type": "markdown",
   "metadata": {}
  },
  {
   "cell_type": "code",
   "execution_count": 21,
   "metadata": {},
   "outputs": [
    {
     "output_type": "stream",
     "name": "stdout",
     "text": [
      "Mean population:        1655334.0416666667\nStandard deviation: 3046154.300945682\nMinimum population:     43231\nMaximum population:     15625084\n"
     ]
    }
   ],
   "source": [
    "print(\"Mean population:       \", populations.mean())\n",
    "print(\"Standard deviation:\", populations.std())\n",
    "print(\"Minimum population:    \", populations.min())\n",
    "print(\"Maximum population:    \", populations.max())"
   ]
  },
  {
   "cell_type": "code",
   "execution_count": null,
   "metadata": {},
   "outputs": [],
   "source": []
  }
 ]
}